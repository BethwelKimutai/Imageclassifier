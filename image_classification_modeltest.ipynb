{
  "nbformat": 4,
  "nbformat_minor": 0,
  "metadata": {
    "colab": {
      "provenance": [],
      "gpuType": "T4",
      "authorship_tag": "ABX9TyPVpdcASiaLS6yjiJ8SH+lk",
      "include_colab_link": true
    },
    "kernelspec": {
      "name": "python3",
      "display_name": "Python 3"
    },
    "language_info": {
      "name": "python"
    }
  },
  "cells": [
    {
      "cell_type": "markdown",
      "metadata": {
        "id": "view-in-github",
        "colab_type": "text"
      },
      "source": [
        "<a href=\"https://colab.research.google.com/github/BethwelKimutai/Imageclassifier/blob/main/image_classification_modeltest.ipynb\" target=\"_parent\"><img src=\"https://colab.research.google.com/assets/colab-badge.svg\" alt=\"Open In Colab\"/></a>"
      ]
    },
    {
      "cell_type": "code",
      "execution_count": 3,
      "metadata": {
        "colab": {
          "base_uri": "https://localhost:8080/"
        },
        "id": "Bbpu3wzdOD1w",
        "outputId": "3110ea63-ee8a-41f4-8681-5a31029aadf2"
      },
      "outputs": [
        {
          "output_type": "stream",
          "name": "stdout",
          "text": [
            "Mounted at /content/drive\n"
          ]
        }
      ],
      "source": [
        "from google.colab import drive\n",
        "drive.mount('/content/drive')"
      ]
    },
    {
      "cell_type": "code",
      "source": [
        "import cv2\n",
        "import numpy as np\n",
        "from keras.models import load_model"
      ],
      "metadata": {
        "id": "GIknnZMROW3h"
      },
      "execution_count": 4,
      "outputs": []
    },
    {
      "cell_type": "code",
      "source": [
        "# Load the trained model\n",
        "model = load_model('/content/drive/MyDrive/Ecosentinel.h5')\n",
        "\n",
        "# Load and preprocess the image\n",
        "image_path = '/content/drive/MyDrive/trainer/trainer.jpeg'\n",
        "image = cv2.imread(image_path)\n",
        "image = cv2.resize(image, (224, 224))  # Resize the image to match the input dimensions of the model\n",
        "image = image / 255.0  # Normalize the pixel values to the range [0, 1]\n",
        "image = np.expand_dims(image, axis=0)  # Add a batch dimension"
      ],
      "metadata": {
        "id": "v-PoNTtaPCu8"
      },
      "execution_count": 8,
      "outputs": []
    },
    {
      "cell_type": "code",
      "source": [
        " #Load and preprocess the image\n",
        "image_path = '/content/drive/MyDrive/trainer/trainer.jpeg'\n",
        "image = cv2.imread(image_path)\n",
        "image = cv2.resize(image, (224, 224))  # Resize the image to match the input dimensions of the model\n",
        "image = image / 255.0  # Normalize the pixel values to the range [0, 1]\n",
        "image = np.expand_dims(image, axis=0)  # Add a batch dimension"
      ],
      "metadata": {
        "id": "v24XMUU8bRJ4"
      },
      "execution_count": 9,
      "outputs": []
    },
    {
      "cell_type": "code",
      "source": [
        "# Perform prediction\n",
        "predictions = model.predict(image)\n",
        "\n",
        "# Interpret the predictions\n",
        "class_index = np.argmax(predictions)\n",
        "class_prob = np.max(predictions)\n",
        "\n",
        "# Print the predicted class and probability\n",
        "print('Predicted class:', class_index)\n",
        "print('Probability:', class_prob)"
      ],
      "metadata": {
        "colab": {
          "base_uri": "https://localhost:8080/"
        },
        "id": "zRw19lSlbmZ-",
        "outputId": "38578d33-22e8-45e0-ac6f-610a4a21fa9f"
      },
      "execution_count": 10,
      "outputs": [
        {
          "output_type": "stream",
          "name": "stdout",
          "text": [
            "1/1 [==============================] - 0s 327ms/step\n",
            "Predicted class: 1\n",
            "Probability: 0.5486291\n"
          ]
        }
      ]
    }
  ]
}